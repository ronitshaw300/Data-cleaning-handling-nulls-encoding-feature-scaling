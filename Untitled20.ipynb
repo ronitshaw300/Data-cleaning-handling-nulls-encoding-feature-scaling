{
  "nbformat": 4,
  "nbformat_minor": 0,
  "metadata": {
    "colab": {
      "provenance": []
    },
    "kernelspec": {
      "name": "python3",
      "display_name": "Python 3"
    },
    "language_info": {
      "name": "python"
    }
  },
  "cells": [
    {
      "cell_type": "code",
      "execution_count": 1,
      "metadata": {
        "id": "PpcsIboc8aDx"
      },
      "outputs": [],
      "source": [
        "import pandas as pd\n",
        "import numpy as np\n",
        "import seaborn as sns\n",
        "import matplotlib.pyplot as plt\n",
        "from sklearn.preprocessing import StandardScaler\n"
      ]
    },
    {
      "cell_type": "code",
      "source": [
        "df = pd.read_csv(\"/content/archive (7).zip\")"
      ],
      "metadata": {
        "id": "6tcJad418uiG"
      },
      "execution_count": 3,
      "outputs": []
    },
    {
      "cell_type": "code",
      "source": [
        "print(df.info())"
      ],
      "metadata": {
        "colab": {
          "base_uri": "https://localhost:8080/"
        },
        "id": "J5yT-q7s9BHf",
        "outputId": "38c88af4-8b1a-4faf-affb-a217a43d3bdd"
      },
      "execution_count": 4,
      "outputs": [
        {
          "output_type": "stream",
          "name": "stdout",
          "text": [
            "<class 'pandas.core.frame.DataFrame'>\n",
            "RangeIndex: 891 entries, 0 to 890\n",
            "Data columns (total 12 columns):\n",
            " #   Column       Non-Null Count  Dtype  \n",
            "---  ------       --------------  -----  \n",
            " 0   PassengerId  891 non-null    int64  \n",
            " 1   Survived     891 non-null    int64  \n",
            " 2   Pclass       891 non-null    int64  \n",
            " 3   Name         891 non-null    object \n",
            " 4   Sex          891 non-null    object \n",
            " 5   Age          714 non-null    float64\n",
            " 6   SibSp        891 non-null    int64  \n",
            " 7   Parch        891 non-null    int64  \n",
            " 8   Ticket       891 non-null    object \n",
            " 9   Fare         891 non-null    float64\n",
            " 10  Cabin        204 non-null    object \n",
            " 11  Embarked     889 non-null    object \n",
            "dtypes: float64(2), int64(5), object(5)\n",
            "memory usage: 83.7+ KB\n",
            "None\n"
          ]
        }
      ]
    },
    {
      "cell_type": "code",
      "source": [
        "print(df.isnull().sum())\n"
      ],
      "metadata": {
        "colab": {
          "base_uri": "https://localhost:8080/"
        },
        "id": "WlupSF249MfH",
        "outputId": "83c73510-8a30-48b2-afe4-914b598b17eb"
      },
      "execution_count": 5,
      "outputs": [
        {
          "output_type": "stream",
          "name": "stdout",
          "text": [
            "PassengerId      0\n",
            "Survived         0\n",
            "Pclass           0\n",
            "Name             0\n",
            "Sex              0\n",
            "Age            177\n",
            "SibSp            0\n",
            "Parch            0\n",
            "Ticket           0\n",
            "Fare             0\n",
            "Cabin          687\n",
            "Embarked         2\n",
            "dtype: int64\n"
          ]
        }
      ]
    },
    {
      "cell_type": "code",
      "source": [
        "\n",
        "cols_to_drop = ['Name', 'Ticket', 'Cabin']\n",
        "df = df.drop(columns=[col for col in cols_to_drop if col in df.columns])\n",
        "\n",
        "print(\" Columns after dropping:\")\n",
        "print(df.columns.tolist())\n",
        "\n"
      ],
      "metadata": {
        "colab": {
          "base_uri": "https://localhost:8080/"
        },
        "id": "ufnOJS4f9SBv",
        "outputId": "c09e79ed-047b-4c58-96f8-65d007186f04"
      },
      "execution_count": 35,
      "outputs": [
        {
          "output_type": "stream",
          "name": "stdout",
          "text": [
            " Columns after dropping:\n",
            "['PassengerId', 'Survived', 'Pclass', 'Age', 'SibSp', 'Parch', 'Fare', 'Sex_male', 'Embarked_Q', 'Embarked_S']\n"
          ]
        }
      ]
    },
    {
      "cell_type": "code",
      "source": [
        "median_age = df['Age'].median()\n",
        "print(\"Median Age:\", median_age)\n"
      ],
      "metadata": {
        "colab": {
          "base_uri": "https://localhost:8080/"
        },
        "id": "JyOBIx44BYCO",
        "outputId": "720cb617-38f8-4b26-c22e-7e28e2f300c6"
      },
      "execution_count": 27,
      "outputs": [
        {
          "output_type": "stream",
          "name": "stdout",
          "text": [
            "Median Age: -0.10463740114712775\n"
          ]
        }
      ]
    },
    {
      "cell_type": "code",
      "source": [
        "missing_before = df['Age'].isnull().sum()\n",
        "print(\"Missing Age values before filling:\", missing_before)\n"
      ],
      "metadata": {
        "colab": {
          "base_uri": "https://localhost:8080/"
        },
        "id": "6itAxxZpCNEE",
        "outputId": "415d3dd8-b426-4a84-a049-5ac035362024"
      },
      "execution_count": 28,
      "outputs": [
        {
          "output_type": "stream",
          "name": "stdout",
          "text": [
            "Missing Age values before filling: 0\n"
          ]
        }
      ]
    },
    {
      "cell_type": "code",
      "source": [
        "missing_after = df['Age'].isnull().sum()\n",
        "print(\"Missing Age values after filling:\", missing_after)"
      ],
      "metadata": {
        "colab": {
          "base_uri": "https://localhost:8080/"
        },
        "id": "fcEJ2NYWBdx6",
        "outputId": "7b780bf4-fa21-4013-831b-ec88c55cb6ce"
      },
      "execution_count": 26,
      "outputs": [
        {
          "output_type": "stream",
          "name": "stdout",
          "text": [
            "Missing Age values after filling: 0\n"
          ]
        }
      ]
    },
    {
      "cell_type": "code",
      "source": [
        "\n",
        "cols_to_encode = ['Sex', 'Embarked']\n",
        "df = pd.get_dummies(\n",
        "    df,\n",
        "    columns=[col for col in cols_to_encode if col in df.columns],\n",
        "    drop_first=True,\n",
        "    prefix_sep='_'\n",
        ")\n",
        "\n",
        "print(\"\\n Columns after one-hot encoding:\")\n",
        "print(df.columns.tolist())\n",
        "\n"
      ],
      "metadata": {
        "colab": {
          "base_uri": "https://localhost:8080/"
        },
        "id": "n1cV3vdH9x3k",
        "outputId": "db59686a-9e1c-4a8c-a0f9-dde4c17ba5c8"
      },
      "execution_count": 37,
      "outputs": [
        {
          "output_type": "stream",
          "name": "stdout",
          "text": [
            "\n",
            " Columns after one-hot encoding:\n",
            "['PassengerId', 'Survived', 'Pclass', 'Age', 'SibSp', 'Parch', 'Fare', 'Sex_male', 'Embarked_Q', 'Embarked_S']\n"
          ]
        }
      ]
    },
    {
      "cell_type": "code",
      "source": [
        "\n",
        "from sklearn.preprocessing import StandardScaler\n",
        "if all(col in df.columns for col in ['Age', 'Fare']):\n",
        "    df[['Age', 'Fare']] = df[['Age', 'Fare']].fillna(df[['Age', 'Fare']].mean())\n",
        "    scaler = StandardScaler()\n",
        "    df[['Age', 'Fare']] = scaler.fit_transform(df[['Age', 'Fare']])\n",
        "\n",
        "    print(\" Age and Fare standardized:\")\n",
        "    print(df[['Age', 'Fare']].head())\n",
        "else:\n",
        "    print(\" Columns 'Age' or 'Fare' not found in DataFrame.\")"
      ],
      "metadata": {
        "colab": {
          "base_uri": "https://localhost:8080/"
        },
        "id": "HXgxOSPz96KS",
        "outputId": "206241c4-e41c-4f1a-f4a7-901850d41503"
      },
      "execution_count": 39,
      "outputs": [
        {
          "output_type": "stream",
          "name": "stdout",
          "text": [
            " Age and Fare standardized:\n",
            "        Age      Fare\n",
            "0 -0.528321 -0.779117\n",
            "2 -0.215182 -0.729373\n",
            "3  0.489381  2.599828\n",
            "4  0.489381 -0.720161\n",
            "5 -0.058613 -0.690071\n"
          ]
        }
      ]
    },
    {
      "cell_type": "code",
      "source": [
        "plt.figure(figsize=(8, 4))\n",
        "sns.boxplot(x=df['Fare'])\n",
        "plt.title(\"Boxplot of Standardized Fare\")\n",
        "plt.show()\n"
      ],
      "metadata": {
        "colab": {
          "base_uri": "https://localhost:8080/",
          "height": 410
        },
        "id": "2bba-B0J_dIG",
        "outputId": "1b27b9da-876c-4c47-d510-65ce7c8ec126"
      },
      "execution_count": 15,
      "outputs": [
        {
          "output_type": "display_data",
          "data": {
            "text/plain": [
              "<Figure size 800x400 with 1 Axes>"
            ],
            "image/png": "[encoded data removed]"
          },
          "metadata": {}
        }
      ]
    },
    {
      "cell_type": "code",
      "source": [
        "\n",
        "if 'Fare' in df.columns:\n",
        "    df['Fare'] = df['Fare'].fillna(df['Fare'].median())\n",
        "    Q1 = df['Fare'].quantile(0.25)\n",
        "    Q3 = df['Fare'].quantile(0.75)\n",
        "    IQR = Q3 - Q1\n",
        "    lower_bound = Q1 - 1.5 * IQR\n",
        "    upper_bound = Q3 + 1.5 * IQR\n",
        "    original_shape = df.shape\n",
        "    df = df[df['Fare'].between(lower_bound, upper_bound)]\n",
        "    removed_rows = original_shape[0] - df.shape[0]\n",
        "\n",
        "    print(f\" Removed {removed_rows} outliers from 'Fare'.\")\n",
        "    print(f\"Updated shape: {df.shape}\")\n",
        "else:\n",
        "    print(\" Column 'Fare' not found in DataFrame.\")"
      ],
      "metadata": {
        "colab": {
          "base_uri": "https://localhost:8080/"
        },
        "id": "DdOngcuC_gAU",
        "outputId": "6155313d-9d99-4d4d-cce8-9b6c82fd82d5"
      },
      "execution_count": 46,
      "outputs": [
        {
          "output_type": "stream",
          "name": "stdout",
          "text": [
            " Removed 7 outliers from 'Fare'.\n",
            "Updated shape: (720, 10)\n"
          ]
        }
      ]
    },
    {
      "cell_type": "code",
      "source": [
        "print(\"\\nCleaned Data Info:\")\n",
        "print(df.info())\n"
      ],
      "metadata": {
        "colab": {
          "base_uri": "https://localhost:8080/"
        },
        "id": "X2HoBDCJ_r6W",
        "outputId": "8a4f37de-e606-4d4b-d3e0-e2fa482f5920"
      },
      "execution_count": 17,
      "outputs": [
        {
          "output_type": "stream",
          "name": "stdout",
          "text": [
            "\n",
            "Cleaned Data Info:\n",
            "<class 'pandas.core.frame.DataFrame'>\n",
            "Index: 775 entries, 0 to 890\n",
            "Data columns (total 10 columns):\n",
            " #   Column       Non-Null Count  Dtype  \n",
            "---  ------       --------------  -----  \n",
            " 0   PassengerId  775 non-null    int64  \n",
            " 1   Survived     775 non-null    int64  \n",
            " 2   Pclass       775 non-null    int64  \n",
            " 3   Age          775 non-null    float64\n",
            " 4   SibSp        775 non-null    int64  \n",
            " 5   Parch        775 non-null    int64  \n",
            " 6   Fare         775 non-null    float64\n",
            " 7   Sex_male     775 non-null    bool   \n",
            " 8   Embarked_Q   775 non-null    bool   \n",
            " 9   Embarked_S   775 non-null    bool   \n",
            "dtypes: bool(3), float64(2), int64(5)\n",
            "memory usage: 50.7 KB\n",
            "None\n"
          ]
        }
      ]
    },
    {
      "cell_type": "code",
      "source": [
        "\n",
        "df.to_csv(\"cleaned_titanic_dataset.csv\", index=False)\n",
        "print(\"\\n Cleaned dataset saved as 'cleaned_titanic_dataset.csv'\")"
      ],
      "metadata": {
        "colab": {
          "base_uri": "https://localhost:8080/"
        },
        "id": "FN_Ny64t_uOw",
        "outputId": "5731575a-4b7e-4cce-b826-5ab2dfd57f9b"
      },
      "execution_count": 20,
      "outputs": [
        {
          "output_type": "stream",
          "name": "stdout",
          "text": [
            "\n",
            " Cleaned dataset saved as 'cleaned_titanic_dataset.csv'\n"
          ]
        }
      ]
    }
  ]
}